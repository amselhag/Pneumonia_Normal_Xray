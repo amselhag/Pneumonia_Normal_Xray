{
 "cells": [
  {
   "cell_type": "code",
   "execution_count": 1,
   "metadata": {},
   "outputs": [],
   "source": [
    "%matplotlib inline\n",
    "import matplotlib.pyplot as plt\n",
    "import numpy as np\n",
    "import os"
   ]
  },
  {
   "cell_type": "code",
   "execution_count": 2,
   "metadata": {},
   "outputs": [],
   "source": [
    "from sklearn.utils import shuffle\n",
    "from sklearn.model_selection import train_test_split"
   ]
  },
  {
   "cell_type": "code",
   "execution_count": 3,
   "metadata": {},
   "outputs": [
    {
     "name": "stderr",
     "output_type": "stream",
     "text": [
      "Using TensorFlow backend.\n"
     ]
    }
   ],
   "source": [
    "from keras.applications.inception_resnet_v2 import (\n",
    "    InceptionResNetV2, preprocess_input, decode_predictions)\n",
    "\n",
    "from keras.preprocessing import image\n",
    "# from keras.applications.imagenet_utils import preprocess_input\n",
    "# from imagenet_utils import decode_predictions\n",
    "\n",
    "from keras.layers import Dense, Activation, Flatten\n",
    "from keras.layers import merge, Input\n",
    "from keras.models import Model\n",
    "from keras.utils import to_categorical, np_utils\n",
    "from keras.models import load_model"
   ]
  },
  {
   "cell_type": "code",
   "execution_count": 4,
   "metadata": {},
   "outputs": [],
   "source": [
    "def preprocess_image(img_path, target_size=(299,299), debug=False):\n",
    "    \"\"\"\n",
    "    img_path - file path to specific image\n",
    "    target_size - tuple of pixel image size\n",
    "    \"\"\"\n",
    "    img = image.load_img(img_path, target_size=(299, 299))\n",
    "    x = image.img_to_array(img)\n",
    "    if debug: print (x.shape)\n",
    "    x = np.expand_dims(x, axis=0)\n",
    "    if debug: print (x.shape)\n",
    "    x = preprocess_input(x)\n",
    "    if debug: print('Input image shape:', x.shape)\n",
    "    return x"
   ]
  },
  {
   "cell_type": "code",
   "execution_count": 5,
   "metadata": {},
   "outputs": [],
   "source": [
    "def get_images(image_dir, label, target_size=(299,299)):\n",
    "    images = os.listdir(image_dir)\n",
    "    preprocessed_images = []\n",
    "    labels = []\n",
    "    for image in images:\n",
    "        image_path = os.path.join(image_dir, image)\n",
    "        x = preprocess_image(image_path, target_size=target_size)\n",
    "        x = np.squeeze(x, axis=0)\n",
    "        preprocessed_images.append(x)\n",
    "        labels.append(label)\n",
    "    return (preprocessed_images, labels)"
   ]
  },
  {
   "cell_type": "code",
   "execution_count": 6,
   "metadata": {},
   "outputs": [],
   "source": [
    "X_train = []\n",
    "y_train = []\n",
    "\n",
    "PATH = os.getcwd()\n",
    "data_path = os.path.join(PATH,'Resources', 'train')\n",
    "categories = ['NORMAL','PNEUMONIA']\n",
    "categories_map = {category: i for i,category in enumerate(categories)}\n",
    "\n",
    "for category in categories:\n",
    "    image_dir = os.path.join(data_path, category)\n",
    "    (preprocessed_images, labels) = get_images(image_dir, label=categories_map.get(category))\n",
    "    X_train.extend(preprocessed_images)\n",
    "    y_train.extend(labels)\n",
    "X_train = np.array(X_train)\n",
    "y_train = np.array(y_train)"
   ]
  },
  {
   "cell_type": "code",
   "execution_count": 7,
   "metadata": {},
   "outputs": [],
   "source": [
    "X_test = []\n",
    "y_test = []\n",
    "\n",
    "PATH = os.getcwd()\n",
    "data_path = os.path.join(PATH,'Resources', 'test')\n",
    "categories = ['NORMAL','PNEUMONIA']\n",
    "categories_map = {category: i for i,category in enumerate(categories)}\n",
    "\n",
    "for category in categories:\n",
    "    image_dir = os.path.join(data_path, category)\n",
    "    (preprocessed_images, labels) = get_images(image_dir, label=categories_map.get(category))\n",
    "    X_test.extend(preprocessed_images)\n",
    "    y_test.extend(labels)\n",
    "X_test = np.array(X_test)\n",
    "y_test = np.array(y_test)"
   ]
  },
  {
   "cell_type": "code",
   "execution_count": 8,
   "metadata": {},
   "outputs": [
    {
     "data": {
      "text/plain": [
       "{'NORMAL': 0, 'PNEUMONIA': 1}"
      ]
     },
     "execution_count": 8,
     "metadata": {},
     "output_type": "execute_result"
    }
   ],
   "source": [
    "categories_map"
   ]
  },
  {
   "cell_type": "code",
   "execution_count": 9,
   "metadata": {},
   "outputs": [
    {
     "data": {
      "text/plain": [
       "Counter({0: 1341, 1: 3875})"
      ]
     },
     "execution_count": 9,
     "metadata": {},
     "output_type": "execute_result"
    }
   ],
   "source": [
    "from collections import Counter\n",
    "Counter(y_train)"
   ]
  },
  {
   "cell_type": "code",
   "execution_count": 10,
   "metadata": {},
   "outputs": [],
   "source": [
    "# Define the number of classes\n",
    "num_classes = len(categories)\n",
    "# convert class labels to on-hot encoding\n",
    "y_train = np_utils.to_categorical(y_train, num_classes)\n"
   ]
  },
  {
   "cell_type": "code",
   "execution_count": 11,
   "metadata": {},
   "outputs": [
    {
     "data": {
      "text/plain": [
       "(5216, 2)"
      ]
     },
     "execution_count": 11,
     "metadata": {},
     "output_type": "execute_result"
    }
   ],
   "source": [
    "y_train.shape"
   ]
  },
  {
   "cell_type": "code",
   "execution_count": 12,
   "metadata": {},
   "outputs": [],
   "source": [
    "y_test=np_utils.to_categorical(y_test, num_classes)"
   ]
  },
  {
   "cell_type": "code",
   "execution_count": 13,
   "metadata": {},
   "outputs": [
    {
     "data": {
      "text/plain": [
       "(624, 2)"
      ]
     },
     "execution_count": 13,
     "metadata": {},
     "output_type": "execute_result"
    }
   ],
   "source": [
    "y_test.shape"
   ]
  },
  {
   "cell_type": "code",
   "execution_count": 14,
   "metadata": {},
   "outputs": [],
   "source": [
    "input = Input(shape=(299, 299, 3))\n",
    "base_model = InceptionResNetV2(include_top=False, weights='imagenet', input_tensor=input, input_shape=(299, 299, 3), pooling='avg', classes=1000)\n",
    "for l in base_model.layers:\n",
    "    l.trainable = False\n",
    "\n",
    "t = base_model(input)\n",
    "o = Dense(2, activation='softmax')(t)\n",
    "model = Model(inputs=input, outputs=o)\n",
    "\n",
    "model.compile(loss='categorical_crossentropy', optimizer='adam', metrics=['accuracy'])"
   ]
  },
  {
   "cell_type": "code",
   "execution_count": 15,
   "metadata": {},
   "outputs": [
    {
     "name": "stdout",
     "output_type": "stream",
     "text": [
      "Train on 5216 samples, validate on 624 samples\n",
      "Epoch 1/8\n",
      "5216/5216 [==============================] - 6056s 1s/step - loss: 0.3356 - acc: 0.8585 - val_loss: 1.0214 - val_acc: 0.6282\n",
      "Epoch 2/8\n",
      "5216/5216 [==============================] - 5948s 1s/step - loss: 0.2296 - acc: 0.9053 - val_loss: 0.8870 - val_acc: 0.6538\n",
      "Epoch 3/8\n",
      "5216/5216 [==============================] - 5951s 1s/step - loss: 0.2091 - acc: 0.9174 - val_loss: 0.9838 - val_acc: 0.6538\n",
      "Epoch 4/8\n",
      "5216/5216 [==============================] - 5950s 1s/step - loss: 0.1788 - acc: 0.9321 - val_loss: 1.0277 - val_acc: 0.6538\n",
      "Epoch 5/8\n",
      "5216/5216 [==============================] - 5992s 1s/step - loss: 0.1711 - acc: 0.9308 - val_loss: 1.5995 - val_acc: 0.6282\n",
      "Epoch 6/8\n",
      "5216/5216 [==============================] - 5967s 1s/step - loss: 0.1706 - acc: 0.9321 - val_loss: 1.3947 - val_acc: 0.6346\n",
      "Epoch 7/8\n",
      "5216/5216 [==============================] - 5997s 1s/step - loss: 0.1548 - acc: 0.9410 - val_loss: 1.7885 - val_acc: 0.6266\n",
      "Epoch 8/8\n",
      "5216/5216 [==============================] - 6194s 1s/step - loss: 0.1524 - acc: 0.9406 - val_loss: 1.6485 - val_acc: 0.6330\n"
     ]
    }
   ],
   "source": [
    "history = model.fit(X_train, y_train, batch_size=32, validation_data = (X_test , y_test), epochs=8, verbose=1)"
   ]
  },
  {
   "cell_type": "code",
   "execution_count": 16,
   "metadata": {},
   "outputs": [
    {
     "name": "stdout",
     "output_type": "stream",
     "text": [
      "_________________________________________________________________\n",
      "Layer (type)                 Output Shape              Param #   \n",
      "=================================================================\n",
      "input_1 (InputLayer)         (None, 299, 299, 3)       0         \n",
      "_________________________________________________________________\n",
      "inception_resnet_v2 (Model)  (None, 1536)              54336736  \n",
      "_________________________________________________________________\n",
      "dense_1 (Dense)              (None, 2)                 3074      \n",
      "=================================================================\n",
      "Total params: 54,339,810\n",
      "Trainable params: 3,074\n",
      "Non-trainable params: 54,336,736\n",
      "_________________________________________________________________\n",
      "None\n"
     ]
    }
   ],
   "source": [
    "print(model.summary())"
   ]
  },
  {
   "cell_type": "code",
   "execution_count": 17,
   "metadata": {},
   "outputs": [
    {
     "data": {
      "image/png": "[encoded data removed]",
      "text/plain": [
       "<Figure size 504x360 with 1 Axes>"
      ]
     },
     "metadata": {
      "needs_background": "light"
     },
     "output_type": "display_data"
    },
    {
     "data": {
      "image/png": "[encoded data removed]",
      "text/plain": [
       "<Figure size 560x400 with 1 Axes>"
      ]
     },
     "metadata": {},
     "output_type": "display_data"
    }
   ],
   "source": [
    "%matplotlib inline\n",
    "import matplotlib.pyplot as plt\n",
    "# visualizing losses and accuracy\n",
    "train_loss=history.history['loss']\n",
    "val_loss=history.history['val_loss']\n",
    "train_acc=history.history['acc']\n",
    "val_acc=history.history['val_acc']\n",
    "xc=range(len(train_loss))\n",
    "\n",
    "plt.figure(1,figsize=(7,5))\n",
    "plt.plot(xc,train_loss)\n",
    "plt.plot(xc,val_loss)\n",
    "plt.xlabel('num of Epochs')\n",
    "plt.ylabel('loss')\n",
    "plt.title('train_loss vs val_loss')\n",
    "plt.grid(True)\n",
    "plt.legend(['train','val'])\n",
    "#print plt.style.available # use bmh, classic,ggplot for big pictures\n",
    "plt.style.use(['classic'])\n",
    "\n",
    "plt.figure(2,figsize=(7,5))\n",
    "plt.plot(xc,train_acc)\n",
    "plt.plot(xc,val_acc)\n",
    "plt.xlabel('num of Epochs')\n",
    "plt.ylabel('accuracy')\n",
    "plt.title('train_acc vs val_acc')\n",
    "plt.grid(True)\n",
    "plt.legend(['train','val'],loc=4)\n",
    "#print plt.style.available # use bmh, classic,ggplot for big pictures\n",
    "plt.style.use(['classic'])"
   ]
  },
  {
   "cell_type": "code",
   "execution_count": 18,
   "metadata": {},
   "outputs": [],
   "source": [
    "model.save(\"custom_inception_resnet_2cat.h5\")"
   ]
  },
  {
   "cell_type": "code",
   "execution_count": null,
   "metadata": {},
   "outputs": [],
   "source": []
  },
  {
   "cell_type": "code",
   "execution_count": null,
   "metadata": {},
   "outputs": [],
   "source": []
  }
 ],
 "metadata": {
  "kernelspec": {
   "display_name": "ut-keras",
   "language": "python",
   "name": "ut-keras"
  },
  "language_info": {
   "codemirror_mode": {
    "name": "ipython",
    "version": 3
   },
   "file_extension": ".py",
   "mimetype": "text/x-python",
   "name": "python",
   "nbconvert_exporter": "python",
   "pygments_lexer": "ipython3",
   "version": "3.6.8"
  }
 },
 "nbformat": 4,
 "nbformat_minor": 2
}
